{
 "cells": [
  {
   "cell_type": "code",
   "execution_count": 10,
   "metadata": {},
   "outputs": [
    {
     "name": "stdout",
     "output_type": "stream",
     "text": [
      "Hello python if\n",
      "2 is greater than 1\n"
     ]
    }
   ],
   "source": [
    "#Basics \n",
    "\n",
    "#1)Varibales\n",
    "one = 1\n",
    "two = 2 \n",
    "#in the above we assinged value \"1\" to the variable \"one\"\n",
    "some_number = 1999\n",
    "\n",
    "#Besides integer we can also use integer , string , float and so many other datatypes\n",
    "#Booleans \n",
    "true_boolean = True\n",
    "false_boolean = False \n",
    "\n",
    "#String \n",
    "name = \"Meghana\"\n",
    "\n",
    "#float\n",
    "marks = 12.6\n",
    "\n",
    "#2)Control flow - conditional statements\n",
    "\n",
    "#“If” uses an expression to evaluate whether a statement is True or False. If it is True, \n",
    "#it executes what is inside the “if” statement.\n",
    "\n",
    "if True:\n",
    " print(\"Hello python if\")\n",
    "\n",
    "if 2>1:\n",
    " print(\"2 is greater than 1\")\n",
    "\n",
    "#2 is greater than 1, so the “print” code is executed.\n",
    "\n",
    "\n",
    "\n"
   ]
  },
  {
   "cell_type": "code",
   "execution_count": 15,
   "metadata": {},
   "outputs": [
    {
     "name": "stdout",
     "output_type": "stream",
     "text": [
      "1 is not greater than 2\n",
      "2 is greater than 1\n"
     ]
    }
   ],
   "source": [
    "#The “else” statement will be executed if the “if” expression is false\n",
    "if 1>2:\n",
    "  print('1 is greater than 2')\n",
    "else:\n",
    "  print('1 is not greater than 2')\n",
    "\n",
    "#1 is not greater than 2, so the code inside the “else” statement will be executed.\n",
    "\n",
    "#You can also use an “elif” statement:\n",
    "\n",
    "if 1>2:\n",
    " print('1 is greater than 2')\n",
    "elif 2>1:\n",
    " print('2 is greater than 1')\n",
    "else:\n",
    " print('1 is equal to 2')"
   ]
  },
  {
   "cell_type": "code",
   "execution_count": 17,
   "metadata": {
    "scrolled": true
   },
   "outputs": [
    {
     "name": "stdout",
     "output_type": "stream",
     "text": [
      "1\n",
      "2\n",
      "3\n",
      "4\n",
      "5\n",
      "6\n",
      "7\n",
      "8\n",
      "9\n",
      "10\n"
     ]
    }
   ],
   "source": [
    "#Looping/Iterator\n",
    "#In python we can iterate in different forms:\n",
    "#While loop:: while the statement is True, the code inside the block will be executed.\n",
    "num = 1\n",
    "while num<=10:\n",
    "   print(num) \n",
    "   num += 1\n",
    "# The while loop needs a “loop condition.” If it stays True, it continues iterating. In this\n",
    "#example, when num is 11 the loop condition equals False "
   ]
  },
  {
   "cell_type": "code",
   "execution_count": null,
   "metadata": {},
   "outputs": [],
   "source": [
    "loop_condition = True \n",
    "\n",
    "while loop_condition:\n",
    "  print(\"Loop Condition keeps: %s\" %(loop_condition))\n",
    "\n",
    "loop_condition = False\n",
    "\n",
    "#The loop condition is True so it keeps iterating — until we set it to False ."
   ]
  },
  {
   "cell_type": "code",
   "execution_count": null,
   "metadata": {},
   "outputs": [],
   "source": [
    "#For Looping: you apply the variable “num” to the block, and the “for” statement will\n",
    "#iterate it for you. This code will print the same as while code: from 1 to 10.\n",
    "\n",
    "for i in range(1, 11):\n",
    "  print(i)"
   ]
  },
  {
   "cell_type": "code",
   "execution_count": null,
   "metadata": {},
   "outputs": [],
   "source": []
  }
 ],
 "metadata": {
  "kernelspec": {
   "display_name": "Python 3",
   "language": "python",
   "name": "python3"
  },
  "language_info": {
   "codemirror_mode": {
    "name": "ipython",
    "version": 3
   },
   "file_extension": ".py",
   "mimetype": "text/x-python",
   "name": "python",
   "nbconvert_exporter": "python",
   "pygments_lexer": "ipython3",
   "version": "3.7.3"
  }
 },
 "nbformat": 4,
 "nbformat_minor": 2
}
