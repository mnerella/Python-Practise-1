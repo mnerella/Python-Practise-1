{
 "cells": [
  {
   "cell_type": "code",
   "execution_count": 4,
   "metadata": {},
   "outputs": [
    {
     "name": "stdout",
     "output_type": "stream",
     "text": [
      "5\n",
      "7\n",
      "4\n",
      "me\n",
      "None\n",
      "None\n",
      "The Effective Engineer\n"
     ]
    }
   ],
   "source": [
    "#Array \n",
    "#List is a collection that can be used to store a list of values (like these integers that you want). \n",
    "\n",
    "my_integers = [5, 7, 1, 3, 4]\n",
    "print(my_integers[0]) # 5\n",
    "print(my_integers[1]) # 7\n",
    "print(my_integers[-1]) # 4\n",
    "\n",
    "#The most common method to add a new value to a List is append . Let’s see how it works:\n",
    "\n",
    "bookshelf = [None] * 10 #empty Array\n",
    "bookshelf.append(\"The Effective Engineer\")\n",
    "bookshelf.append(\"The 4 Hour Work Week\")\n",
    "bookshelf[2] = \"me\"\n",
    "print(bookshelf[2])\n",
    "print(bookshelf[0]) # The Effective Engineer\n",
    "print(bookshelf[1]) # The 4 Hour Work Week\n",
    "print(bookshelf[10])"
   ]
  },
  {
   "cell_type": "code",
   "execution_count": null,
   "metadata": {},
   "outputs": [],
   "source": [
    "#Dictionary: Key-Value Data Structure\n",
    "\n",
    "#Dictionary is a collection of key-value pairs\n",
    "\n",
    "dictionary_example = {\n",
    " \"key1\": \"value1\",\n",
    " \"key2\": \"value2\",\n",
    " \"key3\": \"value3\"\n",
    "}\n",
    "#The key is the index pointing to the value. How do we access the Dictionary value?\n",
    "#You guessed it — using the key. Let’s try it\n",
    "\n",
    "dictionary_tk = {\n",
    " \"name\": \"Leandro\",\n",
    " \"nickname\": \"Tk\",\n",
    " \"nationality\": \"Brazilian\"\n",
    "}\n",
    "print(\"My name is %s\" %(dictionary_tk[\"name\"])) # My name is Leandro\n",
    "print(\"But you can call me %s\" %(dictionary_tk[\"nickname\"])) # But you can call me Tk\n",
    "print(\"And by the way I'm %s\" %(dictionary_tk[\"nationality\"])) # And by the way I'm Brazilian\n",
    "\n",
    "#As we did with Lists , let’s learn how to add elements to a Dictionary . The key\n",
    "#pointing to a value is a big part of what Dictionary is. This is also true when we are\n",
    "#talking about adding elements to it:\n",
    "\n",
    "dictionary_tk = {\n",
    " \"name\": \"Leandro\",\n",
    " \"nickname\": \"Tk\",\n",
    " \"nationality\": \"Brazilian\"\n",
    "}\n",
    "dictionary_tk['age'] = 24\n",
    "print(dictionary_tk) # {'nationality': 'Brazilian', 'age': 24, 'nickname': 'Tk', 'name': 'Leandro}\n",
    "\n"
   ]
  },
  {
   "cell_type": "code",
   "execution_count": null,
   "metadata": {},
   "outputs": [],
   "source": [
    "#Iteration: Looping Through Data Structures\n",
    "#We Python developers commonly use For looping. Let’s do it\n",
    "\n",
    "bookshelf = [\n",
    "    \n",
    "    \"The effective engineer\" , \"one book\",\"two book\"\n",
    "]\n",
    "\n",
    "for book in bookshelf:\n",
    " print(book)"
   ]
  },
  {
   "cell_type": "code",
   "execution_count": 13,
   "metadata": {},
   "outputs": [
    {
     "name": "stdout",
     "output_type": "stream",
     "text": [
      "TK\n",
      "samudrala\n"
     ]
    }
   ],
   "source": [
    "#public instance variable \n",
    "#For a Python class, we can initialize a public instance variable within our constructor method\n",
    "#within constructor \n",
    "class Person:\n",
    "     def __init__(self, firstname,lname):\n",
    "         self.first_name = firstname \n",
    "         self.last_name=lname\n",
    "#Here we apply the first_name value as an argument to the public instance variable\n",
    "\n",
    "tk = Person('TK','samudrala')\n",
    "print(tk.first_name)\n",
    "print(tk.last_name)\n",
    "\n",
    "\n"
   ]
  },
  {
   "cell_type": "code",
   "execution_count": null,
   "metadata": {},
   "outputs": [],
   "source": [
    "#within class\n",
    "class Person:\n",
    "    first_name = 'TK'\n",
    "#Here, we do not need to apply the first_name as an argument, and all instance objects \n",
    "#will have a class attribute initialized with TK\n",
    "\n",
    "tk = Person()\n",
    "print(tk.first_name)"
   ]
  },
  {
   "cell_type": "code",
   "execution_count": null,
   "metadata": {},
   "outputs": [],
   "source": [
    "#Another interesting thing about the public part is that we can manage the\n",
    "#variable value. What do I mean by that? Our object can manage its variable value:\n",
    "#Get and Set variable values.\n",
    "class Person:\n",
    "    def __init__(self,first_name):\n",
    "     self.first_name = first_name\n",
    "tk = Person('TK')\n",
    "tk.first_name = 'Megha'\n",
    "print(tk.first_name)"
   ]
  },
  {
   "cell_type": "code",
   "execution_count": null,
   "metadata": {},
   "outputs": [],
   "source": [
    "#Non - Public Instance Variable\n",
    "#As the public instance variable , we can define the non-public instance variable\n",
    "#both within the constructor method or within the class. \n",
    "#The syntax difference is: fornon-public instance variables , use an underscore ( _ ) before the variable name\n",
    "\n",
    "class Person:\n",
    "    def __init__(self, first_name,email):\n",
    "      self.first_name = first_name\n",
    "      self._email = email\n",
    "\n",
    "tk = Person('TK', 'tk@gmail.com')\n",
    "print(tk.email)"
   ]
  },
  {
   "cell_type": "code",
   "execution_count": null,
   "metadata": {},
   "outputs": [],
   "source": []
  }
 ],
 "metadata": {
  "kernelspec": {
   "display_name": "Python 3",
   "language": "python",
   "name": "python3"
  },
  "language_info": {
   "codemirror_mode": {
    "name": "ipython",
    "version": 3
   },
   "file_extension": ".py",
   "mimetype": "text/x-python",
   "name": "python",
   "nbconvert_exporter": "python",
   "pygments_lexer": "ipython3",
   "version": "3.7.3"
  }
 },
 "nbformat": 4,
 "nbformat_minor": 2
}
